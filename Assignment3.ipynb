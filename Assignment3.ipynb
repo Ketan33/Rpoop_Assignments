{
 "cells": [
  {
   "cell_type": "code",
   "execution_count": null,
   "id": "ca7648d0",
   "metadata": {},
   "outputs": [
    {
     "name": "stdout",
     "output_type": "stream",
     "text": [
      "Dog is barking\n",
      "1. Operator overloading Polymorphism\n",
      "2. Method Overloading Polymorphism\n",
      "3. Method Overriding Polymorphism\n",
      "4. Exit\n",
      "Enter your choice: 3\n",
      "The animal is making a sound\n",
      "Cat is making meuw sound\n",
      "1. Operator overloading Polymorphism\n",
      "2. Method Overloading Polymorphism\n",
      "3. Method Overriding Polymorphism\n",
      "4. Exit\n",
      "Enter your choice: 2\n",
      "Enter number 1:2\n",
      "Enter number 2:3\n",
      "Enter number 3:4\n",
      "24\n",
      "1. Operator overloading Polymorphism\n",
      "2. Method Overloading Polymorphism\n",
      "3. Method Overriding Polymorphism\n",
      "4. Exit\n"
     ]
    }
   ],
   "source": [
    "#method overloading\n",
    "class Calculate_multiplication:\n",
    "    def multiply(self,a,b):\n",
    "        return a*b\n",
    "    \n",
    "    def multiply(self,a,b,c):\n",
    "        return a*b*c\n",
    "\n",
    "#method overriding\n",
    "class Pet_animal:\n",
    "    def sound(self):\n",
    "        print(\"The animal is making a sound\")\n",
    "        \n",
    "class Cat(Pet_animal):\n",
    "    def sound(self):\n",
    "        print(\"Cat is making meuw sound\")\n",
    "        \n",
    "class Dog(Pet_animal):\n",
    "    print(\"Dog is barking\")\n",
    "    \n",
    "#operator overloading\n",
    "class Square:\n",
    "    def __init__(self,side):\n",
    "        self.side = side\n",
    "    \n",
    "    def __add__(self,other):\n",
    "        return self.side + other.side\n",
    "    \n",
    "while True:\n",
    "    print(\"1. Operator overloading Polymorphism\")\n",
    "    print(\"2. Method Overloading Polymorphism\")\n",
    "    print(\"3. Method Overriding Polymorphism\")\n",
    "    print(\"4. Exit\")\n",
    "\n",
    "    choice = int(input(\"Enter your choice: \"))\n",
    "\n",
    "    if choice == 1:\n",
    "        square1 = Square(int(input(\"Enter length of square 1:\")))\n",
    "        square2 = Square(int(input(\"Enter length of square 2:\")))\n",
    "        print(square1 + square2)  # Output: 15\n",
    "    elif choice == 2:\n",
    "        calc = Calculate_multiplication()\n",
    "        print(calc.multiply(int(input(\"Enter number 1:\")), int(input(\"Enter number 2:\")),int(input(\"Enter number 3:\"))))\n",
    "\n",
    "    elif choice == 3:\n",
    "        animals = [Dog(), Cat()]\n",
    "        for animal in animals:\n",
    "            animal.sound()\n",
    "    elif choice == 4:\n",
    "        break\n",
    "    else:\n",
    "        print(\"Invalid choice. Please try again.\")\n"
   ]
  },
  {
   "cell_type": "code",
   "execution_count": null,
   "id": "e26d432b",
   "metadata": {},
   "outputs": [],
   "source": []
  }
 ],
 "metadata": {
  "kernelspec": {
   "display_name": "Python 3 (ipykernel)",
   "language": "python",
   "name": "python3"
  },
  "language_info": {
   "codemirror_mode": {
    "name": "ipython",
    "version": 3
   },
   "file_extension": ".py",
   "mimetype": "text/x-python",
   "name": "python",
   "nbconvert_exporter": "python",
   "pygments_lexer": "ipython3",
   "version": "3.9.7"
  }
 },
 "nbformat": 4,
 "nbformat_minor": 5
}
